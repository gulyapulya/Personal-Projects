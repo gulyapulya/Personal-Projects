{
 "cells": [
  {
   "cell_type": "code",
   "execution_count": 2,
   "metadata": {},
   "outputs": [],
   "source": [
    "import numpy as np\n",
    "import pandas as pd\n",
    "import re\n",
    "import bs4\n",
    "import time\n",
    "import requests\n",
    "from nltk.corpus import stopwords\n",
    "from pymystem3 import Mystem\n",
    "from string import punctuation\n",
    "from sklearn.pipeline import Pipeline\n",
    "from sklearn.feature_extraction.text import CountVectorizer,  TfidfVectorizer\n",
    "from sklearn.svm import LinearSVC\n",
    "from sklearn.linear_model import LogisticRegression\n",
    "from sklearn.model_selection import cross_val_score\n",
    "from sklearn.model_selection import GridSearchCV"
   ]
  },
  {
   "cell_type": "markdown",
   "metadata": {},
   "source": [
    "# Parsing"
   ]
  },
  {
   "cell_type": "code",
   "execution_count": null,
   "metadata": {},
   "outputs": [],
   "source": [
    "url_list = ['https://market.yandex.kz/catalog--smartfony-i-umnye-chasy-v-kapshagae/54437/list?hid=91461&show-reviews=1&page=' + str(n) for n in range(1, 100)]"
   ]
  },
  {
   "cell_type": "code",
   "execution_count": null,
   "metadata": {},
   "outputs": [],
   "source": [
    "final = pd.DataFrame(columns=['review', 'review_type', 'rate'])\n",
    "\n",
    "for url in url_list:\n",
    "\ttry:\n",
    "\t\ttime.sleep(25)\n",
    "\t\tprint(url)\n",
    "\t\tresponse = requests.get(url)\n",
    "\t\tsoup = bs4.BeautifulSoup(response.text, 'lxml')\n",
    "\t\treviews_types = soup.find_all('dt', attrs={'class':'n-product-review-item__title'})\n",
    "\t\treviews_types = [reviews_type.text for reviews_type in reviews_types]\n",
    "\t\tprint(len(reviews_types))\n",
    "\t\treviews = soup.find_all('dd', attrs={'class':'n-product-review-item__text'})\n",
    "\t\treviews = [review.text for review in reviews]\n",
    "\t\tprint(len(reviews))\n",
    "\t\tratings =  soup.find_all('div', attrs={'class':'rating__value'})\n",
    "\t\tratings = [rating.text for rating in ratings]\n",
    "\t\tdel ratings[::2]\n",
    "\t\tprint(len(ratings))\n",
    "\t\trates = []\n",
    "\t\tc = 0\n",
    "\t\tfor i, t in enumerate(reviews_types):\n",
    "\t\t\tif t == ('Недостатки: '):\n",
    "\t\t\t\trates.append('neg')\n",
    "\t\t\telif t == ('Достоинства: '):\n",
    "\t\t\t\trates.append('pos')\n",
    "\t\t\telif float(ratings[c]) > 3:\n",
    "\t\t\t\trates.append('pos')\n",
    "\t\t\t\tc += 1\n",
    "\t\t\telse:\n",
    "\t\t\t\trates.append('neg')\n",
    "\t\t\t\tc += 1\n",
    "\t\td = {'review': reviews, 'review_type': reviews_types, 'rate': rates}\n",
    "\t\tprint(len(reviews), len(reviews_types), len(rates))\n",
    "\t\tdata = pd.DataFrame(d, columns=['review', 'review_type', 'rate'])\n",
    "\t\tfinal = final.append(data, ignore_index=True)\n",
    "\texcept:\n",
    "\t\tprint('didnt')"
   ]
  },
  {
   "cell_type": "markdown",
   "metadata": {},
   "source": [
    "# Test Data Upload"
   ]
  },
  {
   "cell_type": "code",
   "execution_count": 8,
   "metadata": {},
   "outputs": [],
   "source": [
    "test = pd.read_csv('test.csv', encoding='utf-8', lineterminator='\\t', sep='\\n', header=None, names=['text'])"
   ]
  },
  {
   "cell_type": "code",
   "execution_count": 133,
   "metadata": {},
   "outputs": [
    {
     "data": {
      "text/plain": [
       "'Ужасно слабый аккумулятор, это основной минус этого аппарата, разряжается буквально за пару часов при включенном wifi и на макс подсветке, например если играть или смотреть видео, следовательно использовать можно только если есть постоянная возможность подзарядиться. Качества звука через динамик далеко не на высоте.Наблюдаются незначительные тормоза в некоторых приложениях и вообще в меню. Очень мало встроенной памяти, а приложения устанавливаются именно туда, с этим связанны неудобства - нужно постоянно переносить их на карту памяти.\\rНесколько неудобно что нету отдельной кнопки для фото. Подумываю купить батарею большей емкость мб что нибудь измениться.'"
      ]
     },
     "execution_count": 133,
     "metadata": {},
     "output_type": "execute_result"
    }
   ],
   "source": [
    "test.text[0]"
   ]
  },
  {
   "cell_type": "markdown",
   "metadata": {},
   "source": [
    "# Test Data Preprocessing"
   ]
  },
  {
   "cell_type": "code",
   "execution_count": 4,
   "metadata": {},
   "outputs": [
    {
     "name": "stderr",
     "output_type": "stream",
     "text": [
      "/Users/Bai/anaconda2/lib/python2.7/site-packages/ipykernel_launcher.py:9: UnicodeWarning: Unicode equal comparison failed to convert both arguments to Unicode - interpreting them as being unequal\n",
      "  if __name__ == '__main__':\n"
     ]
    }
   ],
   "source": [
    "mystem = Mystem() \n",
    "swords = stopwords.words(\"russian\") + [\"еще\", \"ещё\", \"меж\", \"зато\", \"пусть\", \"ага\", \"этот\", \"это\", \"почему\", \n",
    "                        \"весь\", \"ты\", \"он\", \"она\", \"они\", \"оно\", \"мы\", \"вы\", \"кто\", \"что\", \n",
    "                        \"сам\", \"сама\", \"само\", \"свой\", \"наш\", \"ваш\", \"их\", \"тот\", \"та\", \"те\", \n",
    "                        \"то\", \"раз\", \"твой\", \"мой\", \"кой\", \"кое\", \"все\", \"весь\", \"всё\", \"быть\", \"тот\", \n",
    "                        \"таки\", \"такой\", \"какой\", \"каждый\", \"который\", \"и\", \"а\", \"в\", \"б\", \"д\", \n",
    "                        \"е\", \"ж\", \"з\", \"к\", \"л\", \"м\", \"н\", \"о\", \"п\", \"р\", \"с\", \"у\", \"ф\", \"ч\", \n",
    "                        \"ц\", \"ш\", \"щ\", \"ь\", \"ъ\",\"э\", \"ю\", \"я\"]\n",
    "swords = [word for word in swords if word not in ['хорошо', 'лучше', 'может', 'никогда', 'нельзя', 'всегда']]\n",
    "punctuation = [char for char in punctuation if char not in ['?', '!']]"
   ]
  },
  {
   "cell_type": "code",
   "execution_count": 5,
   "metadata": {},
   "outputs": [],
   "source": [
    "def preprocess_text(text):\n",
    "    text = re.sub(\"\\d+\", \"\", text.lower())\n",
    "    text = re.sub(\"\\s+\", \" \", text)\n",
    "    tokens = mystem.lemmatize(text)\n",
    "    tokens = [token for token in tokens if token not in swords \n",
    "              and token != \" \" and token.strip() not in punctuation]\n",
    "    text = \" \".join(tokens)\n",
    "    return text"
   ]
  },
  {
   "cell_type": "code",
   "execution_count": 79,
   "metadata": {},
   "outputs": [],
   "source": [
    "test['preprocessed'] = test.text.apply(preprocess_text)"
   ]
  },
  {
   "cell_type": "markdown",
   "metadata": {},
   "source": [
    "# Parsed Data Upload for Training"
   ]
  },
  {
   "cell_type": "code",
   "execution_count": 121,
   "metadata": {},
   "outputs": [],
   "source": [
    "data = pd.read_csv('final.csv', sep='\\t', encoding='utf-8')"
   ]
  },
  {
   "cell_type": "code",
   "execution_count": 123,
   "metadata": {},
   "outputs": [],
   "source": [
    "data.review = data.review.astype(str)\n",
    "data.prep_review = data.prep_review.astype(str)"
   ]
  },
  {
   "cell_type": "markdown",
   "metadata": {},
   "source": [
    "# Vectorizer and Model Selection"
   ]
  },
  {
   "cell_type": "markdown",
   "metadata": {},
   "source": [
    "## Preprocessed Data"
   ]
  },
  {
   "cell_type": "code",
   "execution_count": 40,
   "metadata": {},
   "outputs": [
    {
     "name": "stdout",
     "output_type": "stream",
     "text": [
      "Processed results: \n",
      "\n"
     ]
    },
    {
     "name": "stderr",
     "output_type": "stream",
     "text": [
      "/Users/Bai/anaconda2/envs/python3/lib/python3.7/site-packages/sklearn/svm/base.py:931: ConvergenceWarning: Liblinear failed to converge, increase the number of iterations.\n",
      "  \"the number of iterations.\", ConvergenceWarning)\n"
     ]
    },
    {
     "name": "stdout",
     "output_type": "stream",
     "text": [
      "CountVectorizer  and  LinearSVC :  0.8253479115231521 \n",
      "\n"
     ]
    },
    {
     "name": "stderr",
     "output_type": "stream",
     "text": [
      "/Users/Bai/anaconda2/envs/python3/lib/python3.7/site-packages/sklearn/linear_model/logistic.py:433: FutureWarning: Default solver will be changed to 'lbfgs' in 0.22. Specify a solver to silence this warning.\n",
      "  FutureWarning)\n"
     ]
    },
    {
     "name": "stdout",
     "output_type": "stream",
     "text": [
      "CountVectorizer  and  LogisticRegression :  0.8428679397390034 \n",
      "\n",
      "TfidfVectorizer  and  LinearSVC :  0.8500438353403537 \n",
      "\n"
     ]
    },
    {
     "name": "stderr",
     "output_type": "stream",
     "text": [
      "/Users/Bai/anaconda2/envs/python3/lib/python3.7/site-packages/sklearn/linear_model/logistic.py:433: FutureWarning: Default solver will be changed to 'lbfgs' in 0.22. Specify a solver to silence this warning.\n",
      "  FutureWarning)\n"
     ]
    },
    {
     "name": "stdout",
     "output_type": "stream",
     "text": [
      "TfidfVectorizer  and  LogisticRegression :  0.8217927142641205 \n",
      "\n"
     ]
    }
   ],
   "source": [
    "print('Processed results:', '\\n')\n",
    "\n",
    "\n",
    "vectorizers = [CountVectorizer(), TfidfVectorizer()]\n",
    "vnames = ['CountVectorizer', 'TfidfVectorizer'] \n",
    "models = [LinearSVC(), LogisticRegression()]\n",
    "mnames = ['LinearSVC', 'LogisticRegression']\n",
    "\n",
    "for vi, vectorizer in enumerate(vectorizers):\n",
    "    for mi, model in enumerate(models):\n",
    "        pline = Pipeline([(\"vectorizer\", vectorizer),(\"classifier\", model)])\n",
    "        res = cross_val_score(pline, data['prep_review'], data['rate'], scoring='accuracy', cv=5).mean()\n",
    "        print(vnames[vi], ' and ', mnames[mi], ': ', res, '\\n')"
   ]
  },
  {
   "cell_type": "code",
   "execution_count": 41,
   "metadata": {},
   "outputs": [
    {
     "name": "stdout",
     "output_type": "stream",
     "text": [
      "Processed results: \n",
      "\n"
     ]
    },
    {
     "name": "stderr",
     "output_type": "stream",
     "text": [
      "/Users/Bai/anaconda2/envs/python3/lib/python3.7/site-packages/sklearn/svm/base.py:931: ConvergenceWarning: Liblinear failed to converge, increase the number of iterations.\n",
      "  \"the number of iterations.\", ConvergenceWarning)\n"
     ]
    },
    {
     "name": "stdout",
     "output_type": "stream",
     "text": [
      "CountVectorizer 1-2  and  LinearSVC :  0.8388088879931475 \n",
      "\n"
     ]
    },
    {
     "name": "stderr",
     "output_type": "stream",
     "text": [
      "/Users/Bai/anaconda2/envs/python3/lib/python3.7/site-packages/sklearn/linear_model/logistic.py:433: FutureWarning: Default solver will be changed to 'lbfgs' in 0.22. Specify a solver to silence this warning.\n",
      "  FutureWarning)\n"
     ]
    },
    {
     "name": "stdout",
     "output_type": "stream",
     "text": [
      "CountVectorizer 1-2  and  LogisticRegression :  0.8500337582506173 \n",
      "\n",
      "TfidfVectorizer1-2  and  LinearSVC :  0.8536222099057792 \n",
      "\n"
     ]
    },
    {
     "name": "stderr",
     "output_type": "stream",
     "text": [
      "/Users/Bai/anaconda2/envs/python3/lib/python3.7/site-packages/sklearn/linear_model/logistic.py:433: FutureWarning: Default solver will be changed to 'lbfgs' in 0.22. Specify a solver to silence this warning.\n",
      "  FutureWarning)\n"
     ]
    },
    {
     "name": "stdout",
     "output_type": "stream",
     "text": [
      "TfidfVectorizer1-2  and  LogisticRegression :  0.8244591122083943 \n",
      "\n"
     ]
    }
   ],
   "source": [
    "print('Processed results:', '\\n')\n",
    "\n",
    "vectorizers = [CountVectorizer(analyzer='word', ngram_range=(1,2)), \n",
    "               TfidfVectorizer(analyzer='word', ngram_range=(1,2))]\n",
    "vnames = ['CountVectorizer 1-2', 'TfidfVectorizer1-2'] \n",
    "models = [LinearSVC(), LogisticRegression()]\n",
    "mnames = ['LinearSVC', 'LogisticRegression']\n",
    "\n",
    "for vi, vectorizer in enumerate(vectorizers):\n",
    "    for mi, model in enumerate(models):\n",
    "        pline = Pipeline([(\"vectorizer\", vectorizer),(\"classifier\", model)])\n",
    "        res = cross_val_score(pline, data['prep_review'], data['rate'], scoring='accuracy', cv=5).mean()\n",
    "        print(vnames[vi], ' and ', mnames[mi], ': ', res, '\\n')"
   ]
  },
  {
   "cell_type": "code",
   "execution_count": 31,
   "metadata": {},
   "outputs": [],
   "source": [
    "count_vecs = CountVectorizer(analyzer='word', ngram_range=(1,2)).fit_transform(data['prep_review'])"
   ]
  },
  {
   "cell_type": "code",
   "execution_count": 32,
   "metadata": {},
   "outputs": [],
   "source": [
    "tfidf_vecs =  TfidfVectorizer(analyzer='word', ngram_range=(1,2)).fit_transform(data['prep_review'])"
   ]
  },
  {
   "cell_type": "code",
   "execution_count": 46,
   "metadata": {},
   "outputs": [
    {
     "name": "stdout",
     "output_type": "stream",
     "text": [
      "Best cross-validation score: 0.86\n",
      "Best parameters:  {'C': 0.7}\n",
      "Best estimator:  LinearSVC(C=0.7, class_weight=None, dual=True, fit_intercept=True,\n",
      "     intercept_scaling=1, loss='squared_hinge', max_iter=1000,\n",
      "     multi_class='ovr', penalty='l2', random_state=None, tol=0.0001,\n",
      "     verbose=0)\n"
     ]
    }
   ],
   "source": [
    "param_grid = {'C': [0.5, 0.7, 0.8, 0.9]}\n",
    "grid = GridSearchCV(LinearSVC(), param_grid, cv=5)\n",
    "grid.fit(tfidf_vecs, data['rate'])\n",
    "print(\"Best cross-validation score: {:.2f}\".format(grid.best_score_))\n",
    "print(\"Best parameters: \", grid.best_params_)\n",
    "print(\"Best estimator: \", grid.best_estimator_) "
   ]
  },
  {
   "cell_type": "code",
   "execution_count": 47,
   "metadata": {},
   "outputs": [
    {
     "name": "stderr",
     "output_type": "stream",
     "text": [
      "/Users/Bai/anaconda2/envs/python3/lib/python3.7/site-packages/sklearn/linear_model/logistic.py:433: FutureWarning: Default solver will be changed to 'lbfgs' in 0.22. Specify a solver to silence this warning.\n",
      "  FutureWarning)\n"
     ]
    },
    {
     "name": "stdout",
     "output_type": "stream",
     "text": [
      "Best cross-validation score: 0.85\n",
      "Best parameters:  {'C': 0.6}\n",
      "Best estimator:  LogisticRegression(C=0.6, class_weight=None, dual=False, fit_intercept=True,\n",
      "          intercept_scaling=1, max_iter=100, multi_class='warn',\n",
      "          n_jobs=None, penalty='l2', random_state=None, solver='warn',\n",
      "          tol=0.0001, verbose=0, warm_start=False)\n"
     ]
    }
   ],
   "source": [
    "param_grid = {'C': [0.5, 0.6, 0.7, 0.8]}\n",
    "grid = GridSearchCV(LogisticRegression(), param_grid, cv=5)\n",
    "grid.fit(count_vecs, data['rate'])\n",
    "print(\"Best cross-validation score: {:.2f}\".format(grid.best_score_))\n",
    "print(\"Best parameters: \", grid.best_params_)\n",
    "print(\"Best estimator: \", grid.best_estimator_) "
   ]
  },
  {
   "cell_type": "code",
   "execution_count": 48,
   "metadata": {},
   "outputs": [
    {
     "name": "stdout",
     "output_type": "stream",
     "text": [
      "Processed results: \n",
      "\n"
     ]
    },
    {
     "name": "stderr",
     "output_type": "stream",
     "text": [
      "/Users/Bai/anaconda2/envs/python3/lib/python3.7/site-packages/sklearn/svm/base.py:931: ConvergenceWarning: Liblinear failed to converge, increase the number of iterations.\n",
      "  \"the number of iterations.\", ConvergenceWarning)\n"
     ]
    },
    {
     "name": "stdout",
     "output_type": "stream",
     "text": [
      "CountVectorizer 1-2  and  LinearSVC C=0.7 :  0.8392532876505265 \n",
      "\n"
     ]
    },
    {
     "name": "stderr",
     "output_type": "stream",
     "text": [
      "/Users/Bai/anaconda2/envs/python3/lib/python3.7/site-packages/sklearn/linear_model/logistic.py:433: FutureWarning: Default solver will be changed to 'lbfgs' in 0.22. Specify a solver to silence this warning.\n",
      "  FutureWarning)\n"
     ]
    },
    {
     "name": "stdout",
     "output_type": "stream",
     "text": [
      "CountVectorizer 1-2  and  LogisticRegression C=0.6 :  0.8509326346551116 \n",
      "\n",
      "TfidfVectorizer1-2  and  LinearSVC C=0.7 :  0.8545210863102735 \n",
      "\n"
     ]
    },
    {
     "name": "stderr",
     "output_type": "stream",
     "text": [
      "/Users/Bai/anaconda2/envs/python3/lib/python3.7/site-packages/sklearn/linear_model/logistic.py:433: FutureWarning: Default solver will be changed to 'lbfgs' in 0.22. Specify a solver to silence this warning.\n",
      "  FutureWarning)\n"
     ]
    },
    {
     "name": "stdout",
     "output_type": "stream",
     "text": [
      "TfidfVectorizer1-2  and  LogisticRegression C=0.6 :  0.7997692346450345 \n",
      "\n"
     ]
    }
   ],
   "source": [
    "print('Processed results:', '\\n')\n",
    "vectorizers = [CountVectorizer(analyzer='word', ngram_range=(1,2)), \n",
    "               TfidfVectorizer(analyzer='word', ngram_range=(1,2))]\n",
    "vnames = ['CountVectorizer 1-2', 'TfidfVectorizer1-2'] \n",
    "models = [LinearSVC(C=0.7), LogisticRegression(C=0.6)]\n",
    "mnames = ['LinearSVC C=0.7', 'LogisticRegression C=0.6']\n",
    "\n",
    "for vi, vectorizer in enumerate(vectorizers):\n",
    "    for mi, model in enumerate(models):\n",
    "        pline = Pipeline([(\"vectorizer\", vectorizer),(\"classifier\", model)])\n",
    "        res = cross_val_score(pline, data['prep_review'], data['rate'], scoring='accuracy', cv=5).mean()\n",
    "        print(vnames[vi], ' and ', mnames[mi], ': ', res, '\\n')"
   ]
  },
  {
   "cell_type": "markdown",
   "metadata": {},
   "source": [
    "## Raw Data"
   ]
  },
  {
   "cell_type": "code",
   "execution_count": 51,
   "metadata": {},
   "outputs": [
    {
     "name": "stdout",
     "output_type": "stream",
     "text": [
      "Unprocessed results: \n",
      "\n"
     ]
    },
    {
     "name": "stderr",
     "output_type": "stream",
     "text": [
      "/Users/Bai/anaconda2/envs/python3/lib/python3.7/site-packages/sklearn/svm/base.py:931: ConvergenceWarning: Liblinear failed to converge, increase the number of iterations.\n",
      "  \"the number of iterations.\", ConvergenceWarning)\n"
     ]
    },
    {
     "name": "stdout",
     "output_type": "stream",
     "text": [
      "CountVectorizer  and  LinearSVC :  0.844651584622361 \n",
      "\n"
     ]
    },
    {
     "name": "stderr",
     "output_type": "stream",
     "text": [
      "/Users/Bai/anaconda2/envs/python3/lib/python3.7/site-packages/sklearn/linear_model/logistic.py:433: FutureWarning: Default solver will be changed to 'lbfgs' in 0.22. Specify a solver to silence this warning.\n",
      "  FutureWarning)\n"
     ]
    },
    {
     "name": "stdout",
     "output_type": "stream",
     "text": [
      "CountVectorizer  and  LogisticRegression :  0.8585730840933138 \n",
      "\n",
      "TfidfVectorizer  and  LinearSVC :  0.8653065954552325 \n",
      "\n"
     ]
    },
    {
     "name": "stderr",
     "output_type": "stream",
     "text": [
      "/Users/Bai/anaconda2/envs/python3/lib/python3.7/site-packages/sklearn/linear_model/logistic.py:433: FutureWarning: Default solver will be changed to 'lbfgs' in 0.22. Specify a solver to silence this warning.\n",
      "  FutureWarning)\n"
     ]
    },
    {
     "name": "stdout",
     "output_type": "stream",
     "text": [
      "TfidfVectorizer  and  LogisticRegression :  0.833909406963269 \n",
      "\n"
     ]
    }
   ],
   "source": [
    "print('Unprocessed results:', '\\n')\n",
    "\n",
    "vectorizers = [CountVectorizer(), \n",
    "               TfidfVectorizer()]\n",
    "vnames = ['CountVectorizer', 'TfidfVectorizer'] \n",
    "models = [LinearSVC(), LogisticRegression()]\n",
    "mnames = ['LinearSVC', 'LogisticRegression']\n",
    "\n",
    "for vi, vectorizer in enumerate(vectorizers):\n",
    "    for mi, model in enumerate(models):\n",
    "        pline = Pipeline([(\"vectorizer\", vectorizer),(\"classifier\", model)])\n",
    "        res = cross_val_score(pline, data['review'], data['rate'], scoring='accuracy', cv=5).mean()\n",
    "        print(vnames[vi], ' and ', mnames[mi], ': ', res, '\\n')"
   ]
  },
  {
   "cell_type": "code",
   "execution_count": 54,
   "metadata": {},
   "outputs": [
    {
     "name": "stdout",
     "output_type": "stream",
     "text": [
      "Unprocessed results: \n",
      "\n"
     ]
    },
    {
     "name": "stderr",
     "output_type": "stream",
     "text": [
      "/Users/Bai/anaconda2/envs/python3/lib/python3.7/site-packages/sklearn/svm/base.py:931: ConvergenceWarning: Liblinear failed to converge, increase the number of iterations.\n",
      "  \"the number of iterations.\", ConvergenceWarning)\n"
     ]
    },
    {
     "name": "stdout",
     "output_type": "stream",
     "text": [
      "CountVectorizer  and  LinearSVC :  0.8527434876807579 \n",
      "\n"
     ]
    },
    {
     "name": "stderr",
     "output_type": "stream",
     "text": [
      "/Users/Bai/anaconda2/envs/python3/lib/python3.7/site-packages/sklearn/linear_model/logistic.py:433: FutureWarning: Default solver will be changed to 'lbfgs' in 0.22. Specify a solver to silence this warning.\n",
      "  FutureWarning)\n"
     ]
    },
    {
     "name": "stdout",
     "output_type": "stream",
     "text": [
      "CountVectorizer  and  LogisticRegression :  0.8612646747619287 \n",
      "\n",
      "TfidfVectorizer  and  LinearSVC :  0.8702473925530307 \n",
      "\n"
     ]
    },
    {
     "name": "stderr",
     "output_type": "stream",
     "text": [
      "/Users/Bai/anaconda2/envs/python3/lib/python3.7/site-packages/sklearn/linear_model/logistic.py:433: FutureWarning: Default solver will be changed to 'lbfgs' in 0.22. Specify a solver to silence this warning.\n",
      "  FutureWarning)\n"
     ]
    },
    {
     "name": "stdout",
     "output_type": "stream",
     "text": [
      "TfidfVectorizer  and  LogisticRegression :  0.8370333047815791 \n",
      "\n"
     ]
    }
   ],
   "source": [
    "print('Unprocessed results:', '\\n')\n",
    "\n",
    "vectorizers = [CountVectorizer(analyzer='word', ngram_range=(1,2)), \n",
    "               TfidfVectorizer(analyzer='word', ngram_range=(1,2))]\n",
    "vnames = ['CountVectorizer', 'TfidfVectorizer'] \n",
    "models = [LinearSVC(), LogisticRegression()]\n",
    "mnames = ['LinearSVC', 'LogisticRegression']\n",
    "\n",
    "for vi, vectorizer in enumerate(vectorizers):\n",
    "    for mi, model in enumerate(models):\n",
    "        pline = Pipeline([(\"vectorizer\", vectorizer),(\"classifier\", model)])\n",
    "        res = cross_val_score(pline, data['review'], data['rate'], scoring='accuracy', cv=5).mean()\n",
    "        print(vnames[vi], ' and ', mnames[mi], ': ', res, '\\n')"
   ]
  },
  {
   "cell_type": "code",
   "execution_count": 58,
   "metadata": {},
   "outputs": [
    {
     "name": "stderr",
     "output_type": "stream",
     "text": [
      "/Users/Bai/anaconda2/envs/python3/lib/python3.7/site-packages/sklearn/linear_model/logistic.py:433: FutureWarning: Default solver will be changed to 'lbfgs' in 0.22. Specify a solver to silence this warning.\n",
      "  FutureWarning)\n"
     ]
    },
    {
     "name": "stdout",
     "output_type": "stream",
     "text": [
      "Best cross-validation score: 0.86\n",
      "Best parameters:  {'C': 0.5}\n",
      "Best estimator:  LogisticRegression(C=0.5, class_weight=None, dual=False, fit_intercept=True,\n",
      "          intercept_scaling=1, max_iter=100, multi_class='warn',\n",
      "          n_jobs=None, penalty='l2', random_state=None, solver='warn',\n",
      "          tol=0.0001, verbose=0, warm_start=False)\n"
     ]
    }
   ],
   "source": [
    "param_grid = {'C': [0.2, 0.3, 0.5, 0.7]}\n",
    "grid = GridSearchCV(LogisticRegression(), param_grid, cv=5)\n",
    "grid.fit(count_vecs, data['rate'])\n",
    "print(\"Best cross-validation score: {:.2f}\".format(grid.best_score_))\n",
    "print(\"Best parameters: \", grid.best_params_)\n",
    "print(\"Best estimator: \", grid.best_estimator_) "
   ]
  },
  {
   "cell_type": "code",
   "execution_count": 56,
   "metadata": {},
   "outputs": [
    {
     "name": "stdout",
     "output_type": "stream",
     "text": [
      "Best cross-validation score: 0.87\n",
      "Best parameters:  {'C': 1.2}\n",
      "Best estimator:  LinearSVC(C=1.2, class_weight=None, dual=True, fit_intercept=True,\n",
      "     intercept_scaling=1, loss='squared_hinge', max_iter=1000,\n",
      "     multi_class='ovr', penalty='l2', random_state=None, tol=0.0001,\n",
      "     verbose=0)\n"
     ]
    }
   ],
   "source": [
    "param_grid = {'C': [0.7, 0.9, 1., 1.2, 1.5]}\n",
    "grid = GridSearchCV(LinearSVC(), param_grid, cv=5)\n",
    "grid.fit(tfidf_vecs, data['rate'])\n",
    "print(\"Best cross-validation score: {:.2f}\".format(grid.best_score_))\n",
    "print(\"Best parameters: \", grid.best_params_)\n",
    "print(\"Best estimator: \", grid.best_estimator_) "
   ]
  },
  {
   "cell_type": "code",
   "execution_count": 59,
   "metadata": {},
   "outputs": [
    {
     "name": "stdout",
     "output_type": "stream",
     "text": [
      "Unprocessed results: \n",
      "\n"
     ]
    },
    {
     "name": "stderr",
     "output_type": "stream",
     "text": [
      "/Users/Bai/anaconda2/envs/python3/lib/python3.7/site-packages/sklearn/svm/base.py:931: ConvergenceWarning: Liblinear failed to converge, increase the number of iterations.\n",
      "  \"the number of iterations.\", ConvergenceWarning)\n"
     ]
    },
    {
     "name": "stdout",
     "output_type": "stream",
     "text": [
      "CountVectorizer  and  LinearSVC C=1.2 :  0.8505003275054165 \n",
      "\n"
     ]
    },
    {
     "name": "stderr",
     "output_type": "stream",
     "text": [
      "/Users/Bai/anaconda2/envs/python3/lib/python3.7/site-packages/sklearn/linear_model/logistic.py:433: FutureWarning: Default solver will be changed to 'lbfgs' in 0.22. Specify a solver to silence this warning.\n",
      "  FutureWarning)\n"
     ]
    },
    {
     "name": "stdout",
     "output_type": "stream",
     "text": [
      "CountVectorizer  and  LogisticRegression C=0.5 :  0.8617181438000705 \n",
      "\n",
      "TfidfVectorizer  and  LinearSVC C=1.2 :  0.8715936917418251 \n",
      "\n"
     ]
    },
    {
     "name": "stderr",
     "output_type": "stream",
     "text": [
      "/Users/Bai/anaconda2/envs/python3/lib/python3.7/site-packages/sklearn/linear_model/logistic.py:433: FutureWarning: Default solver will be changed to 'lbfgs' in 0.22. Specify a solver to silence this warning.\n",
      "  FutureWarning)\n"
     ]
    },
    {
     "name": "stdout",
     "output_type": "stream",
     "text": [
      "TfidfVectorizer  and  LogisticRegression C=0.5 :  0.8011286340504862 \n",
      "\n"
     ]
    }
   ],
   "source": [
    "print('Unprocessed results:', '\\n')\n",
    "\n",
    "vectorizers = [CountVectorizer(analyzer='word', ngram_range=(1,2)), \n",
    "               TfidfVectorizer(analyzer='word', ngram_range=(1,2))]\n",
    "vnames = ['CountVectorizer', 'TfidfVectorizer'] \n",
    "models = [LinearSVC(C=1.2), LogisticRegression(C=0.5)]\n",
    "mnames = ['LinearSVC C=1.2', 'LogisticRegression C=0.5']\n",
    "\n",
    "for vi, vectorizer in enumerate(vectorizers):\n",
    "    for mi, model in enumerate(models):\n",
    "        pline = Pipeline([(\"vectorizer\", vectorizer),(\"classifier\", model)])\n",
    "        res = cross_val_score(pline, data['review'], data['rate'], scoring='accuracy', cv=5).mean()\n",
    "        print(vnames[vi], ' and ', mnames[mi], ': ', res, '\\n')"
   ]
  },
  {
   "cell_type": "markdown",
   "metadata": {},
   "source": [
    "# Saving the Best Model"
   ]
  },
  {
   "cell_type": "code",
   "execution_count": 130,
   "metadata": {},
   "outputs": [
    {
     "data": {
      "text/plain": [
       "['count.pkl']"
      ]
     },
     "execution_count": 130,
     "metadata": {},
     "output_type": "execute_result"
    }
   ],
   "source": [
    "count = CountVectorizer(analyzer='word', ngram_range=(1,2))\n",
    "count_train = count.fit_transform(data['review'])\n",
    "count_test = count.transform(test.text)\n",
    "joblib.dump(count, 'count.pkl')"
   ]
  },
  {
   "cell_type": "code",
   "execution_count": 125,
   "metadata": {},
   "outputs": [],
   "source": [
    "lr6 = LogisticRegression(C=0.6).fit(count_train, data['rate'])"
   ]
  },
  {
   "cell_type": "code",
   "execution_count": 129,
   "metadata": {},
   "outputs": [
    {
     "data": {
      "text/plain": [
       "['lr6.pkl']"
      ]
     },
     "execution_count": 129,
     "metadata": {},
     "output_type": "execute_result"
    }
   ],
   "source": [
    "from sklearn.externals import joblib\n",
    "joblib.dump(lr6, 'lr6.pkl')"
   ]
  },
  {
   "cell_type": "code",
   "execution_count": 126,
   "metadata": {},
   "outputs": [],
   "source": [
    "preds_lr6 = lr6.predict(count_test)"
   ]
  },
  {
   "cell_type": "code",
   "execution_count": 127,
   "metadata": {},
   "outputs": [],
   "source": [
    "sample = pd.read_csv('sample_submission.csv')\n",
    "sample['y'] = preds_lr6\n",
    "sample.to_csv('count_lr_unp.csv', index=False)"
   ]
  },
  {
   "cell_type": "code",
   "execution_count": null,
   "metadata": {},
   "outputs": [],
   "source": []
  }
 ],
 "metadata": {
  "hide_input": false,
  "kernelspec": {
   "display_name": "Python 3",
   "language": "python",
   "name": "python3"
  },
  "language_info": {
   "codemirror_mode": {
    "name": "ipython",
    "version": 3
   },
   "file_extension": ".py",
   "mimetype": "text/x-python",
   "name": "python",
   "nbconvert_exporter": "python",
   "pygments_lexer": "ipython3",
   "version": "3.7.3"
  },
  "toc": {
   "base_numbering": 1,
   "nav_menu": {},
   "number_sections": true,
   "sideBar": true,
   "skip_h1_title": false,
   "title_cell": "Table of Contents",
   "title_sidebar": "Contents",
   "toc_cell": false,
   "toc_position": {},
   "toc_section_display": true,
   "toc_window_display": true
  }
 },
 "nbformat": 4,
 "nbformat_minor": 2
}
